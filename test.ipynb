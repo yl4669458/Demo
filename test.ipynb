{
 "cells": [
  {
   "cell_type": "code",
   "execution_count": 3,
   "metadata": {},
   "outputs": [
    {
     "name": "stdout",
     "output_type": "stream",
     "text": [
      "1 4 2\n"
     ]
    }
   ],
   "source": [
    "import random\n",
    "\n",
    "\n",
    "while True:\n",
    "    x = random.randint(1,4)\n",
    "    y = random.randint(1,4)\n",
    "    z = random.randint(1,4)\n",
    "    if x - y == 0 or x - z == 0:\n",
    "        continue    \n",
    "    else:\n",
    "        print(x,y,z) \n",
    "        break \n"
   ]
  },
  {
   "cell_type": "code",
   "execution_count": 4,
   "metadata": {},
   "outputs": [
    {
     "name": "stdout",
     "output_type": "stream",
     "text": [
      "7.5\n"
     ]
    }
   ],
   "source": [
    "print(100 * 0.075)"
   ]
  },
  {
   "cell_type": "code",
   "execution_count": 20,
   "metadata": {},
   "outputs": [],
   "source": [
    "def count_a():\n",
    "    a = 100000  \n",
    "    b = 200000  \n",
    "    c = 400000  \n",
    "    d = 600000  \n",
    "    e = 1000000\n",
    "\n",
    "    a_1 = a*0.1\n",
    "    a_2 = a*0.075\n",
    "    a_4 = b*0.05\n",
    "    a_6 = d*0.03\n",
    "    a_10 = c*0.015\n",
    "\n",
    "    i = input('请输入金额:')\n",
    "    i = int(i)\n",
    "    \n",
    "    if 0<i<=a:\n",
    "        print(i*0.1)\n",
    "    elif a<i<=b:\n",
    "        print(a_1 + (i-a)*0.075)\n",
    "    elif b<i<=c:\n",
    "        print(a_1 + a_2 + (i-b)*0.05)\n",
    "    elif c<i<=d:\n",
    "        print(a_1 + a_2 + a_4 + (i-c)*0.03)\n",
    "    elif d<i<=e:\n",
    "        print(a_1 + a_2 + a_4 + a_6 + (i-d)*0.015)\n",
    "    elif i>e:\n",
    "        print(a_1 + a_2 + a_4 + a_6 + a_10 + (i-e)*0.01)"
   ]
  },
  {
   "cell_type": "code",
   "execution_count": 17,
   "metadata": {},
   "outputs": [
    {
     "name": "stdout",
     "output_type": "stream",
     "text": [
      "请输入金额:50000\n",
      "10000.0\n"
     ]
    }
   ],
   "source": [
    "count_a()"
   ]
  },
  {
   "cell_type": "code",
   "execution_count": 18,
   "metadata": {},
   "outputs": [
    {
     "name": "stdout",
     "output_type": "stream",
     "text": [
      "请输入金额:110000\n",
      "17500.0\n"
     ]
    }
   ],
   "source": [
    "count_a()"
   ]
  },
  {
   "cell_type": "code",
   "execution_count": 19,
   "metadata": {},
   "outputs": [
    {
     "name": "stdout",
     "output_type": "stream",
     "text": [
      "请输入金额:110000\n",
      "17500.0\n"
     ]
    }
   ],
   "source": [
    "count_a()"
   ]
  },
  {
   "cell_type": "code",
   "execution_count": 21,
   "metadata": {},
   "outputs": [
    {
     "name": "stdout",
     "output_type": "stream",
     "text": [
      "请输入金额:50000\n",
      "5000.0\n"
     ]
    }
   ],
   "source": [
    "count_a()"
   ]
  },
  {
   "cell_type": "code",
   "execution_count": 22,
   "metadata": {},
   "outputs": [
    {
     "name": "stdout",
     "output_type": "stream",
     "text": [
      "请输入金额:110000\n",
      "10750.0\n"
     ]
    }
   ],
   "source": [
    "count_a()"
   ]
  },
  {
   "cell_type": "code",
   "execution_count": 23,
   "metadata": {},
   "outputs": [
    {
     "name": "stdout",
     "output_type": "stream",
     "text": [
      "请输入金额:230000\n",
      "19000.0\n"
     ]
    }
   ],
   "source": [
    "count_a()"
   ]
  },
  {
   "cell_type": "code",
   "execution_count": 24,
   "metadata": {},
   "outputs": [
    {
     "name": "stdout",
     "output_type": "stream",
     "text": [
      "请输入金额:120000\n",
      "11500.0\n"
     ]
    }
   ],
   "source": [
    "count_a()"
   ]
  },
  {
   "cell_type": "code",
   "execution_count": 30,
   "metadata": {},
   "outputs": [
    {
     "name": "stdout",
     "output_type": "stream",
     "text": [
      "ok\n"
     ]
    }
   ],
   "source": [
    "try:\n",
    "    print(1/0)\n",
    "except:\n",
    "    print('ok')\n",
    " "
   ]
  },
  {
   "cell_type": "code",
   "execution_count": 32,
   "metadata": {},
   "outputs": [
    {
     "ename": "AssertionError",
     "evalue": "ok",
     "output_type": "error",
     "traceback": [
      "\u001b[0;31m---------------------------------------------------------------------------\u001b[0m",
      "\u001b[0;31mAssertionError\u001b[0m                            Traceback (most recent call last)",
      "\u001b[0;32m<ipython-input-32-d14a900b31b1>\u001b[0m in \u001b[0;36m<module>\u001b[0;34m\u001b[0m\n\u001b[1;32m      1\u001b[0m \u001b[0mi\u001b[0m \u001b[0;34m=\u001b[0m \u001b[0;36m0\u001b[0m\u001b[0;34m\u001b[0m\u001b[0;34m\u001b[0m\u001b[0m\n\u001b[0;32m----> 2\u001b[0;31m \u001b[0;32massert\u001b[0m \u001b[0mi\u001b[0m\u001b[0;34m>\u001b[0m\u001b[0;36m0\u001b[0m\u001b[0;34m,\u001b[0m\u001b[0;34m'ok'\u001b[0m\u001b[0;34m\u001b[0m\u001b[0;34m\u001b[0m\u001b[0m\n\u001b[0m",
      "\u001b[0;31mAssertionError\u001b[0m: ok"
     ]
    }
   ],
   "source": [
    "i = 0\n",
    "assert i>0,'ok'"
   ]
  },
  {
   "cell_type": "code",
   "execution_count": 36,
   "metadata": {},
   "outputs": [
    {
     "data": {
      "text/plain": [
       "<_io.TextIOWrapper name='list.ipynb' mode='r' encoding='UTF-8'>"
      ]
     },
     "execution_count": 36,
     "metadata": {},
     "output_type": "execute_result"
    }
   ],
   "source": [
    "open(\"list.ipynb\")"
   ]
  },
  {
   "cell_type": "code",
   "execution_count": 1,
   "metadata": {},
   "outputs": [
    {
     "name": "stdout",
     "output_type": "stream",
     "text": [
      "9\n"
     ]
    }
   ],
   "source": [
    "file = open(\"newfile.txt\",\"r\")\n",
    "print(len(file.read()))"
   ]
  },
  {
   "cell_type": "code",
   "execution_count": 2,
   "metadata": {},
   "outputs": [],
   "source": [
    "file.close()"
   ]
  },
  {
   "cell_type": "code",
   "execution_count": null,
   "metadata": {},
   "outputs": [],
   "source": []
  }
 ],
 "metadata": {
  "kernelspec": {
   "display_name": "Python 3",
   "language": "python",
   "name": "python3"
  },
  "language_info": {
   "codemirror_mode": {
    "name": "ipython",
    "version": 3
   },
   "file_extension": ".py",
   "mimetype": "text/x-python",
   "name": "python",
   "nbconvert_exporter": "python",
   "pygments_lexer": "ipython3",
   "version": "3.7.4"
  }
 },
 "nbformat": 4,
 "nbformat_minor": 4
}
